{
 "cells": [
  {
   "cell_type": "markdown",
   "id": "32c7f92e",
   "metadata": {},
   "source": [
    "# Libraries"
   ]
  },
  {
   "cell_type": "code",
   "execution_count": 1,
   "id": "2e824be1",
   "metadata": {},
   "outputs": [
    {
     "name": "stderr",
     "output_type": "stream",
     "text": [
      "d:\\ChoiKoMel\\Pytorch\\PerformanceMetrics.py:83: SyntaxWarning: invalid escape sequence '\\F'\n",
      "  performance_metrics_table.to_excel('Results\\Financial_output\\Equities\\PerformanceMetrics.xlsx')\n"
     ]
    }
   ],
   "source": [
    "import os\n",
    "import numpy as np\n",
    "import pandas as pd\n",
    "import matplotlib.dates as mdates\n",
    "import matplotlib.pyplot as plt\n",
    "\n",
    "from datetime import datetime, time\n",
    "\n",
    "# Custom libraries made by me for me\n",
    "from DataLoadHelperFunctions import *\n",
    "from Plots import *\n",
    "\n",
    "from Backtest_non_percentage import *\n",
    "from PerformanceMetrics import *\n",
    "from Plots import *"
   ]
  },
  {
   "cell_type": "markdown",
   "id": "d9409eb3",
   "metadata": {},
   "source": [
    "## Load the model predictions"
   ]
  },
  {
   "cell_type": "code",
   "execution_count": 2,
   "id": "5dd1d194",
   "metadata": {},
   "outputs": [
    {
     "name": "stdout",
     "output_type": "stream",
     "text": [
      "Returned predictions for ['AA', 'AAPL', 'ABBV', 'ACN', 'ADBE', 'ADI', 'ADP', 'ADSK', 'AFL', 'AKAM', 'ALGN', 'ALTR', 'ALXN', 'AMAT', 'AMD', 'AMGN', 'AMT', 'AMZN', 'ANSS', 'APA', 'ASML', 'ATVI', 'AVGO', 'AXP', 'BA', 'BAC', 'BAX', 'BHP', 'BIDU', 'BIIB', 'BK', 'BKNG', 'BLK', 'BMRN', 'BMY', 'BP', 'BR', 'BRK.A', 'BRK.B', 'BTU', 'BX', 'C', 'CAT', 'CB', 'CCI', 'CCL', 'CDNS', 'CDW', 'CERN', 'CF', 'CHKP', 'CHTR', 'CL', 'CLF', 'CMCSA', 'CME', 'CMG', 'CMI', 'COF', 'COP', 'COST', 'CPRT', 'CRM', 'CSCO', 'CSX', 'CTSH', 'CTXS', 'CVS', 'CVX', 'DD', 'DE', 'DELL', 'DHR', 'DIS', 'DLTR', 'DOW', 'DUK', 'DVN', 'DXCM', 'EA', 'EBAY', 'EMR', 'EOG', 'EXC', 'F', 'FAST', 'FB', 'FCX', 'FISV', 'FOX', 'FOXA', 'GILD', 'GOOG', 'GOOGL', 'ILMN', 'INCY', 'INTC', 'INTU', 'JD', 'KDP', 'KHC', 'LBTYA', 'LBTYK', 'LRCX', 'LULU', 'MAR', 'MCHP', 'MDLZ', 'MELI', 'MRNA', 'MRVL', 'MSFT', 'MU', 'MXIM', 'NFLX', 'NTES', 'NVDA', 'NXPI', 'ODFL', 'OKTA', 'PAYX', 'PDD', 'PEP', 'PTON', 'PYPL', 'QCOM', 'REGN', 'ROST', 'SBUX', 'SGEN', 'SIRI', 'SNPS', 'SPLK', 'SWKS', 'TCOM', 'TEAM', 'TMUS', 'TSLA', 'TSM', 'TXN', 'VRSN', 'VRTX', 'WBA', 'WBD', 'WDAY', 'XEL', 'ZM', 'ZS']\n"
     ]
    }
   ],
   "source": [
    "PATH = 'Results/ML_output/'\n",
    "\n",
    "predictions = read_results(PATH)"
   ]
  },
  {
   "cell_type": "markdown",
   "id": "43bb400d",
   "metadata": {},
   "source": [
    "## Backtest, plot, everything"
   ]
  },
  {
   "cell_type": "code",
   "execution_count": 3,
   "id": "0ae81dc9",
   "metadata": {},
   "outputs": [],
   "source": [
    "backtest_params = {\n",
    "    'Capital' : 10_000,\n",
    "    'Costs' : 0.005,\n",
    "    'StopLoss' : 0.05,\n",
    "    'TakeProfit' : 0.05,\n",
    "    'ExpectedReturnThreshold' : 0.01,\n",
    "    'Mode' : 'fixed',\n",
    "    'MaxPositionSize_for_growing' : 10,\n",
    "    'RatioOfCapitalPerTrade_for_fixed' : 0.5\n",
    "}"
   ]
  },
  {
   "cell_type": "code",
   "execution_count": 4,
   "id": "e9f14d82",
   "metadata": {},
   "outputs": [],
   "source": [
    "# Run the backtest\n",
    "equity_curves = run_backtest(predictions, backtest_params, bool_show_plot = False, bool_save_plot = False)"
   ]
  },
  {
   "cell_type": "markdown",
   "id": "b6ea840a",
   "metadata": {},
   "source": [
    "## Performance metrics of the strategies"
   ]
  },
  {
   "cell_type": "code",
   "execution_count": 5,
   "id": "e9ee5dc4",
   "metadata": {},
   "outputs": [
    {
     "name": "stderr",
     "output_type": "stream",
     "text": [
      "d:\\ChoiKoMel\\Pytorch\\PerformanceMetrics.py:55: RuntimeWarning: divide by zero encountered in scalar divide\n",
      "  IR2 = ARC**3/(aSD*ARC*MD)\n",
      "d:\\ChoiKoMel\\Pytorch\\PerformanceMetrics.py:58: RuntimeWarning: divide by zero encountered in scalar divide\n",
      "  IR3 = ARC**3/(aSD*MD*MLD)\n",
      "d:\\ChoiKoMel\\Pytorch\\PerformanceMetrics.py:55: RuntimeWarning: divide by zero encountered in scalar divide\n",
      "  IR2 = ARC**3/(aSD*ARC*MD)\n",
      "d:\\ChoiKoMel\\Pytorch\\PerformanceMetrics.py:58: RuntimeWarning: divide by zero encountered in scalar divide\n",
      "  IR3 = ARC**3/(aSD*MD*MLD)\n",
      "d:\\ChoiKoMel\\Pytorch\\PerformanceMetrics.py:55: RuntimeWarning: divide by zero encountered in scalar divide\n",
      "  IR2 = ARC**3/(aSD*ARC*MD)\n",
      "d:\\ChoiKoMel\\Pytorch\\PerformanceMetrics.py:58: RuntimeWarning: divide by zero encountered in scalar divide\n",
      "  IR3 = ARC**3/(aSD*MD*MLD)\n",
      "d:\\ChoiKoMel\\Pytorch\\PerformanceMetrics.py:55: RuntimeWarning: divide by zero encountered in scalar divide\n",
      "  IR2 = ARC**3/(aSD*ARC*MD)\n",
      "d:\\ChoiKoMel\\Pytorch\\PerformanceMetrics.py:58: RuntimeWarning: divide by zero encountered in scalar divide\n",
      "  IR3 = ARC**3/(aSD*MD*MLD)\n",
      "d:\\ChoiKoMel\\Pytorch\\PerformanceMetrics.py:52: RuntimeWarning: invalid value encountered in scalar divide\n",
      "  IR1 = ARC/aSD\n",
      "d:\\ChoiKoMel\\Pytorch\\PerformanceMetrics.py:55: RuntimeWarning: invalid value encountered in scalar divide\n",
      "  IR2 = ARC**3/(aSD*ARC*MD)\n",
      "d:\\ChoiKoMel\\Pytorch\\PerformanceMetrics.py:58: RuntimeWarning: invalid value encountered in scalar divide\n",
      "  IR3 = ARC**3/(aSD*MD*MLD)\n",
      "d:\\ChoiKoMel\\Pytorch\\PerformanceMetrics.py:55: RuntimeWarning: divide by zero encountered in scalar divide\n",
      "  IR2 = ARC**3/(aSD*ARC*MD)\n",
      "d:\\ChoiKoMel\\Pytorch\\PerformanceMetrics.py:58: RuntimeWarning: divide by zero encountered in scalar divide\n",
      "  IR3 = ARC**3/(aSD*MD*MLD)\n",
      "d:\\ChoiKoMel\\Pytorch\\PerformanceMetrics.py:52: RuntimeWarning: invalid value encountered in scalar divide\n",
      "  IR1 = ARC/aSD\n",
      "d:\\ChoiKoMel\\Pytorch\\PerformanceMetrics.py:55: RuntimeWarning: invalid value encountered in scalar divide\n",
      "  IR2 = ARC**3/(aSD*ARC*MD)\n",
      "d:\\ChoiKoMel\\Pytorch\\PerformanceMetrics.py:58: RuntimeWarning: invalid value encountered in scalar divide\n",
      "  IR3 = ARC**3/(aSD*MD*MLD)\n",
      "d:\\ChoiKoMel\\Pytorch\\PerformanceMetrics.py:52: RuntimeWarning: invalid value encountered in scalar divide\n",
      "  IR1 = ARC/aSD\n",
      "d:\\ChoiKoMel\\Pytorch\\PerformanceMetrics.py:55: RuntimeWarning: invalid value encountered in scalar divide\n",
      "  IR2 = ARC**3/(aSD*ARC*MD)\n",
      "d:\\ChoiKoMel\\Pytorch\\PerformanceMetrics.py:58: RuntimeWarning: invalid value encountered in scalar divide\n",
      "  IR3 = ARC**3/(aSD*MD*MLD)\n",
      "d:\\ChoiKoMel\\Pytorch\\PerformanceMetrics.py:55: RuntimeWarning: divide by zero encountered in scalar divide\n",
      "  IR2 = ARC**3/(aSD*ARC*MD)\n",
      "d:\\ChoiKoMel\\Pytorch\\PerformanceMetrics.py:58: RuntimeWarning: divide by zero encountered in scalar divide\n",
      "  IR3 = ARC**3/(aSD*MD*MLD)\n"
     ]
    },
    {
     "data": {
      "text/html": [
       "<div>\n",
       "<style scoped>\n",
       "    .dataframe tbody tr th:only-of-type {\n",
       "        vertical-align: middle;\n",
       "    }\n",
       "\n",
       "    .dataframe tbody tr th {\n",
       "        vertical-align: top;\n",
       "    }\n",
       "\n",
       "    .dataframe thead th {\n",
       "        text-align: right;\n",
       "    }\n",
       "</style>\n",
       "<table border=\"1\" class=\"dataframe\">\n",
       "  <thead>\n",
       "    <tr style=\"text-align: right;\">\n",
       "      <th></th>\n",
       "      <th>ARC</th>\n",
       "      <th>aSD</th>\n",
       "      <th>MD</th>\n",
       "      <th>MLD</th>\n",
       "      <th>IR1</th>\n",
       "      <th>IR2</th>\n",
       "      <th>IR3</th>\n",
       "    </tr>\n",
       "    <tr>\n",
       "      <th>name</th>\n",
       "      <th></th>\n",
       "      <th></th>\n",
       "      <th></th>\n",
       "      <th></th>\n",
       "      <th></th>\n",
       "      <th></th>\n",
       "      <th></th>\n",
       "    </tr>\n",
       "  </thead>\n",
       "  <tbody>\n",
       "    <tr>\n",
       "      <th>AA</th>\n",
       "      <td>0.449</td>\n",
       "      <td>0.086</td>\n",
       "      <td>19.249</td>\n",
       "      <td>1.115</td>\n",
       "      <td>0.053</td>\n",
       "      <td>0.001</td>\n",
       "      <td>0.000</td>\n",
       "    </tr>\n",
       "    <tr>\n",
       "      <th>AAPL</th>\n",
       "      <td>-1.264</td>\n",
       "      <td>0.043</td>\n",
       "      <td>9.832</td>\n",
       "      <td>1.170</td>\n",
       "      <td>-0.291</td>\n",
       "      <td>0.037</td>\n",
       "      <td>-0.000</td>\n",
       "    </tr>\n",
       "    <tr>\n",
       "      <th>ABBV</th>\n",
       "      <td>-2.163</td>\n",
       "      <td>0.042</td>\n",
       "      <td>6.246</td>\n",
       "      <td>0.528</td>\n",
       "      <td>-0.520</td>\n",
       "      <td>0.180</td>\n",
       "      <td>-0.007</td>\n",
       "    </tr>\n",
       "    <tr>\n",
       "      <th>ACN</th>\n",
       "      <td>4.228</td>\n",
       "      <td>0.093</td>\n",
       "      <td>2.914</td>\n",
       "      <td>0.516</td>\n",
       "      <td>0.455</td>\n",
       "      <td>0.661</td>\n",
       "      <td>0.054</td>\n",
       "    </tr>\n",
       "    <tr>\n",
       "      <th>ADBE</th>\n",
       "      <td>1.615</td>\n",
       "      <td>0.053</td>\n",
       "      <td>6.099</td>\n",
       "      <td>0.849</td>\n",
       "      <td>0.303</td>\n",
       "      <td>0.080</td>\n",
       "      <td>0.002</td>\n",
       "    </tr>\n",
       "    <tr>\n",
       "      <th>...</th>\n",
       "      <td>...</td>\n",
       "      <td>...</td>\n",
       "      <td>...</td>\n",
       "      <td>...</td>\n",
       "      <td>...</td>\n",
       "      <td>...</td>\n",
       "      <td>...</td>\n",
       "    </tr>\n",
       "    <tr>\n",
       "      <th>WBD</th>\n",
       "      <td>3.467</td>\n",
       "      <td>0.074</td>\n",
       "      <td>8.010</td>\n",
       "      <td>0.321</td>\n",
       "      <td>0.467</td>\n",
       "      <td>0.202</td>\n",
       "      <td>0.022</td>\n",
       "    </tr>\n",
       "    <tr>\n",
       "      <th>WDAY</th>\n",
       "      <td>-1.885</td>\n",
       "      <td>0.056</td>\n",
       "      <td>5.182</td>\n",
       "      <td>0.857</td>\n",
       "      <td>-0.337</td>\n",
       "      <td>0.123</td>\n",
       "      <td>-0.003</td>\n",
       "    </tr>\n",
       "    <tr>\n",
       "      <th>XEL</th>\n",
       "      <td>14.999</td>\n",
       "      <td>0.087</td>\n",
       "      <td>0.000</td>\n",
       "      <td>0.238</td>\n",
       "      <td>1.731</td>\n",
       "      <td>inf</td>\n",
       "      <td>inf</td>\n",
       "    </tr>\n",
       "    <tr>\n",
       "      <th>ZM</th>\n",
       "      <td>-2.566</td>\n",
       "      <td>0.147</td>\n",
       "      <td>27.892</td>\n",
       "      <td>0.778</td>\n",
       "      <td>-0.174</td>\n",
       "      <td>0.016</td>\n",
       "      <td>-0.001</td>\n",
       "    </tr>\n",
       "    <tr>\n",
       "      <th>ZS</th>\n",
       "      <td>1.654</td>\n",
       "      <td>0.067</td>\n",
       "      <td>6.730</td>\n",
       "      <td>0.536</td>\n",
       "      <td>0.247</td>\n",
       "      <td>0.061</td>\n",
       "      <td>0.002</td>\n",
       "    </tr>\n",
       "  </tbody>\n",
       "</table>\n",
       "<p>148 rows × 7 columns</p>\n",
       "</div>"
      ],
      "text/plain": [
       "         ARC    aSD      MD    MLD    IR1    IR2    IR3\n",
       "name                                                   \n",
       "AA     0.449  0.086  19.249  1.115  0.053  0.001  0.000\n",
       "AAPL  -1.264  0.043   9.832  1.170 -0.291  0.037 -0.000\n",
       "ABBV  -2.163  0.042   6.246  0.528 -0.520  0.180 -0.007\n",
       "ACN    4.228  0.093   2.914  0.516  0.455  0.661  0.054\n",
       "ADBE   1.615  0.053   6.099  0.849  0.303  0.080  0.002\n",
       "...      ...    ...     ...    ...    ...    ...    ...\n",
       "WBD    3.467  0.074   8.010  0.321  0.467  0.202  0.022\n",
       "WDAY  -1.885  0.056   5.182  0.857 -0.337  0.123 -0.003\n",
       "XEL   14.999  0.087   0.000  0.238  1.731    inf    inf\n",
       "ZM    -2.566  0.147  27.892  0.778 -0.174  0.016 -0.001\n",
       "ZS     1.654  0.067   6.730  0.536  0.247  0.061  0.002\n",
       "\n",
       "[148 rows x 7 columns]"
      ]
     },
     "execution_count": 5,
     "metadata": {},
     "output_type": "execute_result"
    }
   ],
   "source": [
    "PerformanceMetricsTable(equity_curves)"
   ]
  }
 ],
 "metadata": {
  "kernelspec": {
   "display_name": "Python 3",
   "language": "python",
   "name": "python3"
  },
  "language_info": {
   "codemirror_mode": {
    "name": "ipython",
    "version": 3
   },
   "file_extension": ".py",
   "mimetype": "text/x-python",
   "name": "python",
   "nbconvert_exporter": "python",
   "pygments_lexer": "ipython3",
   "version": "3.13.2"
  }
 },
 "nbformat": 4,
 "nbformat_minor": 5
}
